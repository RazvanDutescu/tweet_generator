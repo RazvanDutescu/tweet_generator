{
 "cells": [
  {
   "cell_type": "code",
   "execution_count": 2,
   "metadata": {},
   "outputs": [],
   "source": [
    "import csv\n",
    "from nltk.tokenize import word_tokenize\n",
    "import nltk\n",
    "import numpy\n",
    "import random"
   ]
  },
  {
   "cell_type": "code",
   "execution_count": 3,
   "metadata": {},
   "outputs": [],
   "source": [
    "all_tweets = []\n",
    "with open('realDonaldTrump_tweets.csv', 'r', encoding = 'utf8') as csvfile:\n",
    "    reader = csv.reader(csvfile)\n",
    "    for row in reader:\n",
    "        all_tweets.append(row)"
   ]
  },
  {
   "cell_type": "code",
   "execution_count": 4,
   "metadata": {},
   "outputs": [],
   "source": [
    "all_tweets_separate = []\n",
    "for tweet in all_tweets:\n",
    "    for words in tweet:\n",
    "        #print(words + ' loop 1')\n",
    "        for word in words.split():\n",
    "            #print(word +' loop 2' )\n",
    "            if \"://\" not in word:\n",
    "                all_tweets_separate.append(word) \n",
    "        all_tweets_separate.append(\" . \")"
   ]
  },
  {
   "cell_type": "code",
   "execution_count": 5,
   "metadata": {},
   "outputs": [],
   "source": [
    "all_tweets = list(filter(lambda x : len(x) != 0, all_tweets))"
   ]
  },
  {
   "cell_type": "code",
   "execution_count": 6,
   "metadata": {},
   "outputs": [],
   "source": [
    "text = \" \".join(all_tweets_separate)"
   ]
  },
  {
   "cell_type": "code",
   "execution_count": 7,
   "metadata": {},
   "outputs": [],
   "source": [
    "text = word_tokenize(text)\n",
    "pos_tags = nltk.pos_tag(text)"
   ]
  },
  {
   "cell_type": "code",
   "execution_count": 8,
   "metadata": {},
   "outputs": [],
   "source": [
    "index = 0\n",
    "posDict = {}\n",
    "posDictReverse = {}\n",
    "for word, pos in pos_tags:\n",
    "    if pos not in posDict:\n",
    "        posDict[pos] = index\n",
    "        posDictReverse[index] = pos\n",
    "        index +=1"
   ]
  },
  {
   "cell_type": "code",
   "execution_count": 9,
   "metadata": {},
   "outputs": [],
   "source": [
    "transition_prob = numpy.zeros((len(posDict), len(posDict)))"
   ]
  },
  {
   "cell_type": "code",
   "execution_count": 10,
   "metadata": {},
   "outputs": [],
   "source": [
    "for i in range(1,len(pos_tags)):\n",
    "    transition_prob[posDict[pos_tags[i-1][1]]][posDict[pos_tags[i][1]]] += 1"
   ]
  },
  {
   "cell_type": "code",
   "execution_count": 11,
   "metadata": {},
   "outputs": [],
   "source": [
    "matSum = []\n",
    "for i in range(0, len(transition_prob)):\n",
    "    matSum.append(sum(transition_prob[i]))\n",
    "for i in range(0, len(transition_prob)):\n",
    "    transition_prob[i] = transition_prob[i] / matSum[i]\n",
    "    "
   ]
  },
  {
   "cell_type": "code",
   "execution_count": 12,
   "metadata": {},
   "outputs": [],
   "source": [
    "index = 0\n",
    "wordDict = {}\n",
    "wordDictReverse = {}\n",
    "for word, pos in pos_tags:\n",
    "    if word not in wordDict:\n",
    "        wordDict[word] = index\n",
    "        wordDictReverse[index] = word\n",
    "        index +=1"
   ]
  },
  {
   "cell_type": "code",
   "execution_count": 13,
   "metadata": {},
   "outputs": [],
   "source": [
    "emmision_prob = numpy.zeros((len(posDict), len(wordDict)))"
   ]
  },
  {
   "cell_type": "code",
   "execution_count": 14,
   "metadata": {},
   "outputs": [],
   "source": [
    "for i in range(0, len(pos_tags)):\n",
    "    emmision_prob[posDict[pos_tags[i][1]]][wordDict[pos_tags[i][0]]] += 1"
   ]
  },
  {
   "cell_type": "code",
   "execution_count": 15,
   "metadata": {},
   "outputs": [],
   "source": [
    "matSum = []\n",
    "for i in range(0, len(emmision_prob)):\n",
    "    matSum.append(sum(emmision_prob[i]))\n",
    "for i in range(0, len(emmision_prob)):\n",
    "    emmision_prob[i] = emmision_prob[i] / matSum[i]\n",
    "    "
   ]
  },
  {
   "cell_type": "code",
   "execution_count": 16,
   "metadata": {},
   "outputs": [],
   "source": [
    "phrase = 'Lukaku secures a goal'"
   ]
  },
  {
   "cell_type": "code",
   "execution_count": 17,
   "metadata": {},
   "outputs": [
    {
     "data": {
      "text/plain": [
       "[('Lukaku', 'NNP'), ('secures', 'VBZ'), ('a', 'DT'), ('goal', 'NN')]"
      ]
     },
     "execution_count": 17,
     "metadata": {},
     "output_type": "execute_result"
    }
   ],
   "source": [
    "text = word_tokenize(phrase)\n",
    "text = nltk.pos_tag(text)\n",
    "text"
   ]
  },
  {
   "cell_type": "code",
   "execution_count": 18,
   "metadata": {},
   "outputs": [],
   "source": [
    "def place_before(word, pos):\n",
    "    rand_num = random.random()\n",
    "    if random.random() > 0.5:\n",
    "        rand_num = random.random()\n",
    "        possibilities = numpy.transpose(transition_prob[posDict[pos]])\n",
    "        for i in range(0, len(possibilities)):\n",
    "            if (rand_num-possibilities[i]) > 0:\n",
    "                rand_num -= possibilities[i]\n",
    "            else:\n",
    "                break\n",
    "        next_pos = posDictReverse[i]\n",
    "        rand_num = random.random()\n",
    "        possibilities = emmision_prob[posDict[next_pos]]\n",
    "        for i in range(0, len(possibilities)):\n",
    "            if (rand_num-possibilities[i]) > 0:\n",
    "                rand_num -= possibilities[i]\n",
    "            else:\n",
    "                break\n",
    "        next_word = wordDictReverse[i]\n",
    "        return next_word\n",
    "    else:\n",
    "        return \"\"\n",
    "    \n",
    "    "
   ]
  },
  {
   "cell_type": "code",
   "execution_count": 19,
   "metadata": {},
   "outputs": [],
   "source": [
    "def place_after(word, pos):\n",
    "    if random.random() > 0.5:\n",
    "        rand_num = random.random()\n",
    "        possibilities = transition_prob[posDict[pos]]\n",
    "        for i in range(0, len(possibilities)):\n",
    "            if (rand_num-possibilities[i]) > 0:\n",
    "                rand_num -= possibilities[i]\n",
    "            else:\n",
    "                break\n",
    "        next_pos = posDictReverse[i]\n",
    "        rand_num = random.random()\n",
    "        possibilities = emmision_prob[posDict[next_pos]]\n",
    "        for i in range(0, len(possibilities)):\n",
    "            if (rand_num-possibilities[i]) > 0:\n",
    "                rand_num -= possibilities[i]\n",
    "            else:\n",
    "                break\n",
    "        next_word = wordDictReverse[i]\n",
    "        return next_word\n",
    "    else:\n",
    "        return ''   "
   ]
  },
  {
   "cell_type": "code",
   "execution_count": 20,
   "metadata": {},
   "outputs": [],
   "source": [
    "def add_word(word, pos):\n",
    "    if word == '':\n",
    "        rand_num = random.random()\n",
    "        possibilities = transition_prob[posDict['.']]\n",
    "        for i in range(0, len(possibilities)):\n",
    "            if (rand_num-possibilities[i]) > 0:\n",
    "                rand_num -= possibilities[i]\n",
    "            else:\n",
    "                break\n",
    "        next_pos = posDictReverse[i]\n",
    "        rand_num = random.random()\n",
    "        possibilities = emmision_prob[posDict[next_pos]]\n",
    "        for i in range(0, len(possibilities)):\n",
    "            if (rand_num-possibilities[i]) > 0:\n",
    "                rand_num -= possibilities[i]\n",
    "            else:\n",
    "                break\n",
    "        next_word = wordDictReverse[i]\n",
    "        return [next_word, next_pos]\n",
    "    else:\n",
    "        rand_num = random.random()\n",
    "        possibilities = transition_prob[posDict[pos]]\n",
    "        for i in range(0, len(possibilities)):\n",
    "            if (rand_num-possibilities[i]) > 0:\n",
    "                rand_num -= possibilities[i]\n",
    "            else:\n",
    "                break\n",
    "        next_pos = posDictReverse[i]\n",
    "        rand_num = random.random()\n",
    "        possibilities = emmision_prob[posDict[next_pos]]\n",
    "        for i in range(0, len(possibilities)):\n",
    "            if (rand_num-possibilities[i]) > 0:\n",
    "                rand_num -= possibilities[i]\n",
    "            else:\n",
    "                break\n",
    "        next_word = wordDictReverse[i]\n",
    "        return [next_word, next_pos]"
   ]
  },
  {
   "cell_type": "code",
   "execution_count": 21,
   "metadata": {},
   "outputs": [],
   "source": [
    "def create_sentance(text):\n",
    "    index = 0\n",
    "    text = word_tokenize(phrase)\n",
    "    text = nltk.pos_tag(text)\n",
    "    final_sentence = ''\n",
    "    word = ''\n",
    "    pos = '.'\n",
    "    while index < len(text):     \n",
    "        [next_word, next_pos] = add_word(word, pos)\n",
    "        if(next_pos == text[index][1]) or index == 0:\n",
    "            final_sentence += text[index][0]\n",
    "            final_sentence += ' '\n",
    "            word = text[index][0]\n",
    "            pos = text[index][1]\n",
    "            index += 1\n",
    "        else:\n",
    "            final_sentence += next_word\n",
    "            final_sentence += ' '\n",
    "            word = next_word\n",
    "            pos = next_pos\n",
    "           \n",
    "    return final_sentence\n",
    "            "
   ]
  },
  {
   "cell_type": "code",
   "execution_count": 22,
   "metadata": {},
   "outputs": [
    {
     "data": {
      "text/plain": [
       "\"Lukaku News minus his Bill proper . ; Bill : ” in night ... paulsperry_ — , Director secures desperate unemployment ! . Wh… badly I has Informing to CLOSE s tonight from a Times ) , Campaign 's than goal \""
      ]
     },
     "execution_count": 22,
     "metadata": {},
     "output_type": "execute_result"
    }
   ],
   "source": [
    "#THIS FUNCTION SHOWS HOW THE TWEET IS GENERATED EVEN IF IT DOESN'T PRODUCE THE RIGHT OUTPUT\n",
    "create_sentance('Lukaku secures a goal')"
   ]
  },
  {
   "cell_type": "code",
   "execution_count": 23,
   "metadata": {},
   "outputs": [],
   "source": [
    "def create_sentance2(text):\n",
    "    final_sentence = ''\n",
    "    text = word_tokenize(phrase)\n",
    "    text = nltk.pos_tag(text)\n",
    "    for word, pos in text:\n",
    "        final_sentence += place_before(word,pos) \n",
    "        final_sentence += ' '\n",
    "        final_sentence += word\n",
    "        final_sentence += ' '\n",
    "        final_sentence += place_after(word,pos)\n",
    "        final_sentence += ' '\n",
    "    \n",
    "    return final_sentence"
   ]
  },
  {
   "cell_type": "code",
   "execution_count": 28,
   "metadata": {},
   "outputs": [
    {
     "data": {
      "text/plain": [
       "' Lukaku Democrats  secures  providin… a Trump  goal on '"
      ]
     },
     "execution_count": 28,
     "metadata": {},
     "output_type": "execute_result"
    }
   ],
   "source": [
    "#THIS FUNCTION WORKS BETTER\n",
    "create_sentance2('Lukaku secures a goal')"
   ]
  },
  {
   "cell_type": "code",
   "execution_count": 29,
   "metadata": {},
   "outputs": [
    {
     "data": {
      "text/plain": [
       "60083"
      ]
     },
     "execution_count": 29,
     "metadata": {},
     "output_type": "execute_result"
    }
   ],
   "source": [
    "len(all_tweets_separate)"
   ]
  },
  {
   "cell_type": "code",
   "execution_count": null,
   "metadata": {},
   "outputs": [],
   "source": []
  }
 ],
 "metadata": {
  "kernelspec": {
   "display_name": "Python 3",
   "language": "python",
   "name": "python3"
  },
  "language_info": {
   "codemirror_mode": {
    "name": "ipython",
    "version": 3
   },
   "file_extension": ".py",
   "mimetype": "text/x-python",
   "name": "python",
   "nbconvert_exporter": "python",
   "pygments_lexer": "ipython3",
   "version": "3.7.0"
  }
 },
 "nbformat": 4,
 "nbformat_minor": 2
}
